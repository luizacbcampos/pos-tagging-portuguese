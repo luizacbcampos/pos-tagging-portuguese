{
  "nbformat": 4,
  "nbformat_minor": 0,
  "metadata": {
    "colab": {
      "name": "TP2.ipynb",
      "provenance": [],
      "collapsed_sections": []
    },
    "kernelspec": {
      "name": "python3",
      "display_name": "Python 3"
    },
    "accelerator": "GPU"
  },
  "cells": [
    {
      "cell_type": "code",
      "metadata": {
        "id": "ntVWoyXeo-E9",
        "colab_type": "code",
        "outputId": "d7060ea9-5906-49f9-9801-9e0633bd76b9",
        "colab": {
          "base_uri": "https://localhost:8080/",
          "height": 80
        }
      },
      "source": [
        "import os\n",
        "import pandas as pd\n",
        "import numpy as np\n",
        "import matplotlib.pyplot as plt\n",
        "import nltk\n",
        "\t#nltk.download(\"mac_morpho\")\n",
        "\t#nltk.download('stopwords')\n",
        "\t#nltk.download('averaged_perceptron_tagger')\n",
        "from nltk.corpus import mac_morpho, stopwords\n",
        "from nltk.tokenize import word_tokenize, sent_tokenize\n",
        "from keras import initializers\n",
        "from keras.models import Sequential\n",
        "from keras.layers import Dense, LSTM, InputLayer, Bidirectional, TimeDistributed, Embedding, Activation\n",
        "from keras import backend as K\n",
        "from keras.preprocessing.sequence import pad_sequences\n",
        "\n",
        "from sklearn.preprocessing import LabelEncoder, OneHotEncoder\n",
        "from sklearn.feature_extraction.text import CountVectorizer\n",
        "from sklearn.metrics import classification_report"
      ],
      "execution_count": 0,
      "outputs": [
        {
          "output_type": "stream",
          "text": [
            "Using TensorFlow backend.\n"
          ],
          "name": "stderr"
        },
        {
          "output_type": "display_data",
          "data": {
            "text/html": [
              "<p style=\"color: red;\">\n",
              "The default version of TensorFlow in Colab will soon switch to TensorFlow 2.x.<br>\n",
              "We recommend you <a href=\"https://www.tensorflow.org/guide/migrate\" target=\"_blank\">upgrade</a> now \n",
              "or ensure your notebook will continue to use TensorFlow 1.x via the <code>%tensorflow_version 1.x</code> magic:\n",
              "<a href=\"https://colab.research.google.com/notebooks/tensorflow_version.ipynb\" target=\"_blank\">more info</a>.</p>\n"
            ],
            "text/plain": [
              "<IPython.core.display.HTML object>"
            ]
          },
          "metadata": {
            "tags": []
          }
        }
      ]
    },
    {
      "cell_type": "code",
      "metadata": {
        "id": "JQbcRlV1qZ1r",
        "colab_type": "code",
        "outputId": "1548ec04-f140-4159-f47c-1408c7a366a2",
        "colab": {
          "base_uri": "https://localhost:8080/",
          "height": 34
        }
      },
      "source": [
        "from google.colab import drive\n",
        "drive.mount('/content/drive/', force_remount=True)"
      ],
      "execution_count": 0,
      "outputs": [
        {
          "output_type": "stream",
          "text": [
            "Mounted at /content/drive/\n"
          ],
          "name": "stdout"
        }
      ]
    },
    {
      "cell_type": "code",
      "metadata": {
        "id": "kplGVxZ3pJl2",
        "colab_type": "code",
        "colab": {}
      },
      "source": [
        "def pre_process():\n",
        "    current_dir = os.getcwd()\n",
        "    train_text = open('/content/drive/My Drive/nlp/corpus/macmorpho-train.txt', 'r')\n",
        "    dev_text = open('/content/drive/My Drive/nlp/corpus/macmorpho-dev.txt', 'r')\n",
        "    test_text = open('/content/drive/My Drive/nlp/corpus/macmorpho-test.txt', 'r')\n",
        "\n",
        "    sentences_train = []\n",
        "    sentences_dev = []\n",
        "    sentences_test = []\n",
        "    #TRAIN DATA\n",
        "    for line in train_text.readlines():\n",
        "    \ttudo = line.replace('\\n', '').split(' ')\n",
        "    \ttrain = [nltk.tag.util.str2tuple(word, sep='_') for word in tudo]\n",
        "    \tsentences_train.append(train)\n",
        "    \t#print(train)\n",
        "    MAX_LEGTH = 248\n",
        "\n",
        "\n",
        "    classes = set([x[1] for x in train]) \n",
        "    #print(classes)\n",
        "\n",
        "    #DEV DATA\n",
        "    for line in dev_text.readlines():\n",
        "    \ttudo = line.replace('\\n', '').split(' ')\n",
        "    \tdev = [nltk.tag.util.str2tuple(word, sep='_') for word in tudo]\n",
        "    \tsentences_dev.append(dev)\n",
        "\t#print(dev)\n",
        "\n",
        "    #TEST DATA\n",
        "    for line in test_text.readlines():\n",
        "    \ttudo = line.replace('\\n', '').split(' ')\n",
        "    \ttest = [nltk.tag.util.str2tuple(word, sep='_') for word in tudo]\n",
        "    \tsentences_test.append(test)\n",
        "    \t#print(test)\n",
        "\n",
        "    print(\"Pre-processing done\")\n",
        "    return sentences_train, classes, sentences_dev,sentences_test\n",
        "    #return sentences_train, train, classes, sentences_dev, dev, sentences_test, test\n",
        "\n",
        "def splits_sentences(sentences_train, sentences_dev, sentences_test):\n",
        "\t#split words and tags\n",
        "\ttrain_sentence_words, train_sentence_tags =[], [] \n",
        "\tfor tagged_sentence in sentences_train:\n",
        "\t    sentence, tags = zip(*tagged_sentence)\n",
        "\t    train_sentence_words.append(np.array(sentence))\n",
        "\t    train_sentence_tags.append(np.array(tags))\n",
        "\n",
        "\tdev_sentence_words, dev_sentence_tags =[], [] \n",
        "\tfor tagged_sentence in sentences_dev:\n",
        "\t    sentence, tags = zip(*tagged_sentence)\n",
        "\t    dev_sentence_words.append(np.array(sentence))\n",
        "\t    dev_sentence_tags.append(np.array(tags))\n",
        "\n",
        "\ttest_sentence_words, test_sentence_tags =[], [] \n",
        "\tfor tagged_sentence in sentences_test:\n",
        "\t    sentence, tags = zip(*tagged_sentence)\n",
        "\t    test_sentence_words.append(np.array(sentence))\n",
        "\t    test_sentence_tags.append(np.array(tags))\n",
        "\n",
        "\t#converts to numbers    \n",
        "\treturn convert_to_numbers(train_sentence_words, train_sentence_tags, dev_sentence_words, dev_sentence_tags, test_sentence_words, test_sentence_tags)\n",
        "\n",
        "def convert_to_numbers(train_sentence_words, train_sentence_tags, dev_sentence_words, dev_sentence_tags, test_sentence_words, test_sentence_tags):\n",
        "\t#converting to numbers\n",
        "\twords, tags = set([]), set([])\n",
        "\t \n",
        "\tfor s in train_sentence_words :\n",
        "\t    for w in s:\n",
        "\t        words.add(w.lower())\n",
        " \n",
        "\tfor ts in train_sentence_tags:\n",
        "\t    for t in ts:\n",
        "\t        tags.add(t)\n",
        "\n",
        "\tword2index = {w: i + 2 for i, w in enumerate(list(words))}\n",
        "\tword2index['-PAD-'] = 0  # The special value used for padding\n",
        "\tword2index['-OOV-'] = 1  # The special value used for OOVs\n",
        "\n",
        "\ttag2index = {t: i + 1 for i, t in enumerate(list(tags))}\n",
        "\ttag2index['-PAD-'] = 0  # The special value used to padding\n",
        "\n",
        "\t#converting the word dataset to numbers\n",
        "\n",
        "\ttrain_sentences_X, val_sentences_X, test_sentences_X, train_tags_y, val_tags_y, test_tags_y = [], [], [], [], [], []\n",
        "\n",
        "\t#train\t \n",
        "\tfor s in train_sentence_words:\n",
        "\t    s_int = []\n",
        "\t    for w in s:\n",
        "\t        try:\n",
        "\t            s_int.append(word2index[w.lower()])\n",
        "\t        except KeyError:\n",
        "\t            s_int.append(word2index['-OOV-'])\n",
        "\t \n",
        "\t    train_sentences_X.append(s_int)\n",
        "\n",
        "\t#validation\n",
        "\tfor s in dev_sentence_words:\n",
        "\t    s_int = []\n",
        "\t    for w in s:\n",
        "\t        try:\n",
        "\t            s_int.append(word2index[w.lower()])\n",
        "\t        except KeyError:\n",
        "\t            s_int.append(word2index['-OOV-'])\n",
        "\t \n",
        "\t    val_sentences_X.append(s_int)\n",
        "\t#test \n",
        "\tfor s in test_sentence_words:\n",
        "\t    s_int = []\n",
        "\t    for w in s:\n",
        "\t        try:\n",
        "\t            s_int.append(word2index[w.lower()])\n",
        "\t        except KeyError:\n",
        "\t            s_int.append(word2index['-OOV-'])\n",
        "\t \n",
        "\t    test_sentences_X.append(s_int)\n",
        "\t\n",
        "\n",
        "\tfor s in train_sentence_tags:\n",
        "\t    train_tags_y.append([tag2index[t] for t in s])\n",
        "\t\n",
        "\tfor s in dev_sentence_tags:\n",
        "\t    val_tags_y.append([tag2index[t] for t in s])\n",
        "\t \n",
        "\tfor s in test_sentence_tags:\n",
        "\t    test_tags_y.append([tag2index[t] for t in s])\n",
        "\t \n",
        "\tprint(\"Done number converting\")\n",
        "\n",
        "\treturn word2index, tag2index, train_sentences_X, val_sentences_X, test_sentences_X, train_tags_y, val_tags_y, test_tags_y\n",
        "\n",
        "def to_categorical(sequences, categories):\n",
        "    cat_sequences = []\n",
        "    for s in sequences:\n",
        "        cats = []\n",
        "        for item in s:\n",
        "            cats.append(np.zeros(categories))\n",
        "            cats[-1][item] = 1.0\n",
        "        cat_sequences.append(cats)\n",
        "    return np.array(cat_sequences)\n",
        "\n",
        "def create_model(window_size,train_sentences_X,train_tags_y,epochs,batch_size,val_sentences_X,val_tags_y, tag2index):\n",
        "    \n",
        "    model = Sequential()\n",
        "    model.add(InputLayer(input_shape=(248,)))\n",
        "    model.add(Embedding(len(word2index), 128))\n",
        "    model.add(Bidirectional(LSTM(256, return_sequences=True)))\n",
        "    model.add(TimeDistributed(Dense(len(tag2index))))\n",
        "    model.add(Activation('softmax'))\n",
        "    model.compile(loss='categorical_crossentropy', optimizer ='rmsprop',metrics=['accuracy', ignore_class_accuracy(0), single(0), single(1), single(2), single(3), single(4), single(5), single(6),\n",
        "                                                                                 single(7), single(8), single(9), single(10), single(11), single(12), single(13), single(14), \n",
        "                                                                                 single(15), single(16), single(17), single(18), single(19), single(20), single(21), single(22), single(23), single(24), single(25), single(26), single(27)])\n",
        "    print(model.summary())\n",
        "    model.fit(train_sentences_X,train_tags_y,epochs=epochs, batch_size=batch_size,verbose=1,  validation_split=0.2)#validation_data=(val_sentences_X,val_tags_y))\n",
        "    return model\n",
        "\n",
        "def ignore_class_accuracy(to_ignore=0):\n",
        "    def ignore_accuracy(y_true, y_pred):\n",
        "        y_true_class = K.argmax(y_true, axis=-1)\n",
        "        y_pred_class = K.argmax(y_pred, axis=-1)\n",
        " \n",
        "        ignore_mask = K.cast(K.not_equal(y_pred_class, to_ignore), 'int32')\n",
        "        matches = K.cast(K.equal(y_true_class, y_pred_class), 'int32') * ignore_mask\n",
        "        accuracy = K.sum(matches) / K.maximum(K.sum(ignore_mask), 1)\n",
        "        return accuracy\n",
        "    return ignore_accuracy\n",
        "\n",
        "def single(INTERESTING_CLASS_ID):\n",
        "  def single_class_accuracy(y_true, y_pred):\n",
        "      class_id_true = K.argmax(y_true, axis=-1)\n",
        "      class_id_preds = K.argmax(y_pred, axis=-1)\n",
        "      # Replace class_id_preds with class_id_true for recall here\n",
        "      accuracy_mask = K.cast(K.equal(class_id_preds, INTERESTING_CLASS_ID), 'int32')\n",
        "      class_acc_tensor = K.cast(K.equal(class_id_true, class_id_preds), 'int32') * accuracy_mask\n",
        "      class_acc = K.sum(class_acc_tensor) / K.maximum(K.sum(accuracy_mask), 1)\n",
        "      return class_acc\n",
        "  return single_class_accuracy\n",
        "\n",
        "def main(window_size, epochs,batch_size, train, classes, dev, test):\n",
        "\n",
        "    data_train,classes_train,vectorizer,corpus = return_training_data(train, window_size, epochs)\n",
        "    \n",
        "    data_val,classes_val,vectorizer2,corpus2 = return_validation_data(dev, window_size,epochs)\n",
        "\n",
        "    model = create_model(window_size,data_train,classes_train,epochs,batch_size,data_val,classes_val)\n",
        "    #generating test samples\n",
        "\n",
        "    data_test = []\n",
        "    classes_test = []\n",
        "    data_test,classes_test,valor_test_por_classe,resultado_test_por_classe = return_testing_data(vectorizer, window_size, corpus, test)\n",
        "\n",
        "    resultado = str(window_size) + '-' + str(epochs)\n",
        "\n",
        "\n",
        "    #checa se a header existe\n",
        "    if os.path.exists(\"results/total_accuracy.csv\"):\n",
        "        header_exists = True\n",
        "    else:\n",
        "        header_exists = False\n",
        "\n",
        "    # if it does not exist, save the header\n",
        "    with open(\"/content/drive/My Drive/nlp/results/total_accuracy.csv\", \"a+\") as f:\n",
        "        if not header_exists:\n",
        "            f.write(\"window_size,epochs,accuracy\\n\")\n",
        "        f.write(str(window_size)+\",\"+str(epochs)+\",\"+str(model.evaluate(data_test,classes_test,batch_size=batch_size,verbose=2)[1])+\"\\n\")\n",
        "\n",
        "\n",
        "    with open(\"/content/drive/My Drive/nlp/results/\"+resultado+'.csv', \"w\") as f:\n",
        "        f.write(\"index,accuracy\\n\")\n",
        "\n",
        "    classes_list = vectorizer.get_feature_names()# will be used to return each class's accuracy, but without using an index\n",
        "\n",
        "    for index in valor_test_por_classe:\n",
        "        score = model.evaluate(valor_test_por_classe[index], resultado_test_por_classe[index], batch_size = batch_size, verbose = 2)\n",
        "        with open(\"/content/drive/My Drive/nlp/results/\"+resultado+\".csv\",\"a\") as f:\n",
        "                f.write(str(classes_list[index])+\",\"+str(score[1])+\"\\n\")\n",
        "\n",
        "    #graph_by_class(\"/content/drive/My Drive/nlp/results/\"+resultado+\".csv\",window_size,epochs) # generating graphics\n",
        "    del model"
      ],
      "execution_count": 0,
      "outputs": []
    },
    {
      "cell_type": "code",
      "metadata": {
        "id": "s7TS3Mn9Z71x",
        "colab_type": "code",
        "outputId": "687b0077-4383-4f48-b8ee-2d32e94c13ee",
        "colab": {
          "base_uri": "https://localhost:8080/",
          "height": 34
        }
      },
      "source": [
        "#pre process\n",
        "sentences_train, classes, sentences_dev,sentences_test = pre_process()"
      ],
      "execution_count": 0,
      "outputs": [
        {
          "output_type": "stream",
          "text": [
            "Pre-processing done\n"
          ],
          "name": "stdout"
        }
      ]
    },
    {
      "cell_type": "code",
      "metadata": {
        "id": "LSN4SXfQaBGO",
        "colab_type": "code",
        "outputId": "09147278-ce17-4e56-cb92-898dd9cc67dd",
        "colab": {
          "base_uri": "https://localhost:8080/",
          "height": 34
        }
      },
      "source": [
        "#splits\n",
        "word2index, tag2index, train_sentences_X, val_sentences_X, test_sentences_X, train_tags_y, val_tags_y, test_tags_y = splits_sentences(sentences_train, sentences_dev,sentences_test)"
      ],
      "execution_count": 0,
      "outputs": [
        {
          "output_type": "stream",
          "text": [
            "Done number converting\n"
          ],
          "name": "stdout"
        }
      ]
    },
    {
      "cell_type": "code",
      "metadata": {
        "id": "FoqJHJBIaKNj",
        "colab_type": "code",
        "colab": {}
      },
      "source": [
        "#pad\n",
        "window_size = 3\n",
        "batch_size = 90\n",
        "epochs=2\n",
        "\n",
        "train_sentences_X = pad_sequences(train_sentences_X, maxlen=248, padding='post')\n",
        "test_sentences_X = pad_sequences(test_sentences_X, maxlen=248, padding='post')\n",
        "val_sentences_X = pad_sequences(val_sentences_X, maxlen=248, padding='post')\n",
        "val_sentences_X = pad_sequences(val_sentences_X, maxlen=248, padding='post')\n",
        "train_tags_y = pad_sequences(train_tags_y, maxlen=248, padding='post')\n",
        "test_tags_y = pad_sequences(test_tags_y, maxlen=248, padding='post')\n"
      ],
      "execution_count": 0,
      "outputs": []
    },
    {
      "cell_type": "code",
      "metadata": {
        "id": "OqX3WhvRafpJ",
        "colab_type": "code",
        "outputId": "7c8eab87-e724-459c-aa84-5c8257622dae",
        "colab": {
          "base_uri": "https://localhost:8080/",
          "height": 904
        }
      },
      "source": [
        "#model\n",
        "model = create_model(window_size,train_sentences_X,to_categorical(train_tags_y, len(tag2index)),epochs,batch_size,val_sentences_X,to_categorical(val_tags_y, len(tag2index)), tag2index)"
      ],
      "execution_count": 0,
      "outputs": [
        {
          "output_type": "stream",
          "text": [
            "WARNING:tensorflow:From /usr/local/lib/python3.6/dist-packages/keras/backend/tensorflow_backend.py:66: The name tf.get_default_graph is deprecated. Please use tf.compat.v1.get_default_graph instead.\n",
            "\n",
            "WARNING:tensorflow:From /usr/local/lib/python3.6/dist-packages/keras/backend/tensorflow_backend.py:541: The name tf.placeholder is deprecated. Please use tf.compat.v1.placeholder instead.\n",
            "\n",
            "WARNING:tensorflow:From /usr/local/lib/python3.6/dist-packages/keras/backend/tensorflow_backend.py:4432: The name tf.random_uniform is deprecated. Please use tf.random.uniform instead.\n",
            "\n",
            "WARNING:tensorflow:From /usr/local/lib/python3.6/dist-packages/keras/optimizers.py:793: The name tf.train.Optimizer is deprecated. Please use tf.compat.v1.train.Optimizer instead.\n",
            "\n",
            "WARNING:tensorflow:From /usr/local/lib/python3.6/dist-packages/keras/backend/tensorflow_backend.py:3576: The name tf.log is deprecated. Please use tf.math.log instead.\n",
            "\n",
            "Model: \"sequential_1\"\n",
            "_________________________________________________________________\n",
            "Layer (type)                 Output Shape              Param #   \n",
            "=================================================================\n",
            "embedding_1 (Embedding)      (None, 248, 128)          6046464   \n",
            "_________________________________________________________________\n",
            "bidirectional_1 (Bidirection (None, 248, 512)          788480    \n",
            "_________________________________________________________________\n",
            "time_distributed_1 (TimeDist (None, 248, 27)           13851     \n",
            "_________________________________________________________________\n",
            "activation_1 (Activation)    (None, 248, 27)           0         \n",
            "=================================================================\n",
            "Total params: 6,848,795\n",
            "Trainable params: 6,848,795\n",
            "Non-trainable params: 0\n",
            "_________________________________________________________________\n",
            "None\n",
            "WARNING:tensorflow:From /usr/local/lib/python3.6/dist-packages/tensorflow_core/python/ops/math_grad.py:1424: where (from tensorflow.python.ops.array_ops) is deprecated and will be removed in a future version.\n",
            "Instructions for updating:\n",
            "Use tf.where in 2.0, which has the same broadcast rule as np.where\n",
            "WARNING:tensorflow:From /usr/local/lib/python3.6/dist-packages/keras/backend/tensorflow_backend.py:1033: The name tf.assign_add is deprecated. Please use tf.compat.v1.assign_add instead.\n",
            "\n",
            "WARNING:tensorflow:From /usr/local/lib/python3.6/dist-packages/keras/backend/tensorflow_backend.py:1020: The name tf.assign is deprecated. Please use tf.compat.v1.assign instead.\n",
            "\n",
            "WARNING:tensorflow:From /usr/local/lib/python3.6/dist-packages/keras/backend/tensorflow_backend.py:3005: The name tf.Session is deprecated. Please use tf.compat.v1.Session instead.\n",
            "\n",
            "Train on 30358 samples, validate on 7590 samples\n",
            "Epoch 1/2\n",
            "WARNING:tensorflow:From /usr/local/lib/python3.6/dist-packages/keras/backend/tensorflow_backend.py:190: The name tf.get_default_session is deprecated. Please use tf.compat.v1.get_default_session instead.\n",
            "\n",
            "WARNING:tensorflow:From /usr/local/lib/python3.6/dist-packages/keras/backend/tensorflow_backend.py:197: The name tf.ConfigProto is deprecated. Please use tf.compat.v1.ConfigProto instead.\n",
            "\n",
            "WARNING:tensorflow:From /usr/local/lib/python3.6/dist-packages/keras/backend/tensorflow_backend.py:207: The name tf.global_variables is deprecated. Please use tf.compat.v1.global_variables instead.\n",
            "\n",
            "WARNING:tensorflow:From /usr/local/lib/python3.6/dist-packages/keras/backend/tensorflow_backend.py:216: The name tf.is_variable_initialized is deprecated. Please use tf.compat.v1.is_variable_initialized instead.\n",
            "\n",
            "WARNING:tensorflow:From /usr/local/lib/python3.6/dist-packages/keras/backend/tensorflow_backend.py:223: The name tf.variables_initializer is deprecated. Please use tf.compat.v1.variables_initializer instead.\n",
            "\n",
            "30358/30358 [==============================] - 407s 13ms/step - loss: 0.1320 - acc: 0.9663 - ignore_accuracy: 0.5872 - single_class_accuracy: 0.9946 - single_class_accuracy_1: 0.4095 - single_class_accuracy_2: 0.5679 - single_class_accuracy_3: 0.4086 - single_class_accuracy_4: 0.5168 - single_class_accuracy_5: 0.3907 - single_class_accuracy_6: 0.3172 - single_class_accuracy_7: 0.0000e+00 - single_class_accuracy_8: 0.2485 - single_class_accuracy_9: 0.5421 - single_class_accuracy_10: 0.0000e+00 - single_class_accuracy_11: 0.2767 - single_class_accuracy_12: 0.0000e+00 - single_class_accuracy_13: 0.3165 - single_class_accuracy_14: 0.0504 - single_class_accuracy_15: 0.3551 - single_class_accuracy_16: 0.3941 - single_class_accuracy_17: 0.1097 - single_class_accuracy_18: 0.5251 - single_class_accuracy_19: 0.0000e+00 - single_class_accuracy_20: 0.2675 - single_class_accuracy_21: 0.6592 - single_class_accuracy_22: 0.3844 - single_class_accuracy_23: 0.7917 - single_class_accuracy_24: 0.0000e+00 - single_class_accuracy_25: 0.4181 - single_class_accuracy_26: 0.6137 - single_class_accuracy_27: 0.0000e+00 - val_loss: 0.0391 - val_acc: 0.9879 - val_ignore_accuracy: 0.8453 - val_single_class_accuracy: 1.0000 - val_single_class_accuracy_1: 0.8827 - val_single_class_accuracy_2: 0.9233 - val_single_class_accuracy_3: 0.8183 - val_single_class_accuracy_4: 0.8276 - val_single_class_accuracy_5: 0.9118 - val_single_class_accuracy_6: 0.7614 - val_single_class_accuracy_7: 0.0000e+00 - val_single_class_accuracy_8: 0.6727 - val_single_class_accuracy_9: 0.9628 - val_single_class_accuracy_10: 0.0000e+00 - val_single_class_accuracy_11: 0.8451 - val_single_class_accuracy_12: 0.0000e+00 - val_single_class_accuracy_13: 0.3142 - val_single_class_accuracy_14: 0.3498 - val_single_class_accuracy_15: 0.5836 - val_single_class_accuracy_16: 0.9443 - val_single_class_accuracy_17: 0.6800 - val_single_class_accuracy_18: 0.7957 - val_single_class_accuracy_19: 0.0000e+00 - val_single_class_accuracy_20: 0.7326 - val_single_class_accuracy_21: 0.9224 - val_single_class_accuracy_22: 0.8730 - val_single_class_accuracy_23: 0.9982 - val_single_class_accuracy_24: 0.0000e+00 - val_single_class_accuracy_25: 0.6100 - val_single_class_accuracy_26: 0.8888 - val_single_class_accuracy_27: 0.0000e+00\n",
            "Epoch 2/2\n",
            "30358/30358 [==============================] - 401s 13ms/step - loss: 0.0173 - acc: 0.9948 - ignore_accuracy: 0.9328 - single_class_accuracy: 1.0000 - single_class_accuracy_1: 0.9458 - single_class_accuracy_2: 0.9628 - single_class_accuracy_3: 0.9041 - single_class_accuracy_4: 0.9588 - single_class_accuracy_5: 0.9513 - single_class_accuracy_6: 0.8690 - single_class_accuracy_7: 0.2293 - single_class_accuracy_8: 0.8344 - single_class_accuracy_9: 0.9723 - single_class_accuracy_10: 0.0000e+00 - single_class_accuracy_11: 0.9109 - single_class_accuracy_12: 0.0524 - single_class_accuracy_13: 0.9935 - single_class_accuracy_14: 0.5319 - single_class_accuracy_15: 0.8417 - single_class_accuracy_16: 0.9509 - single_class_accuracy_17: 0.8875 - single_class_accuracy_18: 0.9240 - single_class_accuracy_19: 0.0030 - single_class_accuracy_20: 0.8370 - single_class_accuracy_21: 0.9471 - single_class_accuracy_22: 0.8490 - single_class_accuracy_23: 1.0000 - single_class_accuracy_24: 0.3409 - single_class_accuracy_25: 0.8580 - single_class_accuracy_26: 0.9505 - single_class_accuracy_27: 0.0000e+00 - val_loss: 0.0283 - val_acc: 0.9914 - val_ignore_accuracy: 0.8889 - val_single_class_accuracy: 1.0000 - val_single_class_accuracy_1: 0.8548 - val_single_class_accuracy_2: 0.9548 - val_single_class_accuracy_3: 0.8772 - val_single_class_accuracy_4: 0.9511 - val_single_class_accuracy_5: 0.9501 - val_single_class_accuracy_6: 0.5281 - val_single_class_accuracy_7: 0.3567 - val_single_class_accuracy_8: 0.8438 - val_single_class_accuracy_9: 0.9474 - val_single_class_accuracy_10: 0.0000e+00 - val_single_class_accuracy_11: 0.8718 - val_single_class_accuracy_12: 0.1542 - val_single_class_accuracy_13: 0.3379 - val_single_class_accuracy_14: 0.6646 - val_single_class_accuracy_15: 0.5865 - val_single_class_accuracy_16: 0.9619 - val_single_class_accuracy_17: 0.9077 - val_single_class_accuracy_18: 0.8718 - val_single_class_accuracy_19: 0.0000e+00 - val_single_class_accuracy_20: 0.7690 - val_single_class_accuracy_21: 0.8970 - val_single_class_accuracy_22: 0.9126 - val_single_class_accuracy_23: 0.9982 - val_single_class_accuracy_24: 0.5425 - val_single_class_accuracy_25: 0.7532 - val_single_class_accuracy_26: 0.9291 - val_single_class_accuracy_27: 0.0000e+00\n"
          ],
          "name": "stdout"
        }
      ]
    },
    {
      "cell_type": "code",
      "metadata": {
        "id": "xGD54QVWaj9r",
        "colab_type": "code",
        "outputId": "11f90d8f-b791-4aa8-d5f3-4f3525eb2e7d",
        "colab": {
          "base_uri": "https://localhost:8080/",
          "height": 88
        }
      },
      "source": [
        "\n",
        "scores = model.evaluate(test_sentences_X, to_categorical(test_tags_y, len(tag2index)))\n",
        "print(scores)\n",
        "print(f\"{model.metrics_names[1]}: {scores[2] * 100}\")\n",
        " "
      ],
      "execution_count": 0,
      "outputs": [
        {
          "output_type": "stream",
          "text": [
            "9987/9987 [==============================] - 129s 13ms/step\n",
            "[0.02015901155547602, 0.9938480502864173, 0.9119116343409843, 1.0, 0.764216168268918, 0.9683652829737939, 0.8946121664828393, 0.973425810750413, 0.94483836461234, 0.6623761910647986, 0.14418744367677983, 0.8472593681365085, 0.9629768540001534, 0.0, 0.7926543467546772, 0.06408330830079102, 0.3732852708521077, 0.2998564800907847, 0.6984036844702636, 0.9571518542518057, 0.5468442308334167, 0.8767106183509339, 0.0, 0.7797464810074396, 0.9108951088122716, 0.8547706318031272, 0.9995071591144277, 0.22162144120690233, 0.7862092683216526, 0.9511625326136471, 0.0]\n",
            "acc: 91.19116343409843\n"
          ],
          "name": "stdout"
        }
      ]
    },
    {
      "cell_type": "code",
      "metadata": {
        "id": "3cysf_SyhNYj",
        "colab_type": "code",
        "outputId": "ed58ed87-5e0c-416b-8d0d-397e25ed45ec",
        "colab": {
          "base_uri": "https://localhost:8080/",
          "height": 51
        }
      },
      "source": [
        "print('batch_size, epochs, acc_fake, acc_real')\n",
        "print(batch_size, ',', epochs, ',', scores[1], ',',scores[2])\n"
      ],
      "execution_count": 0,
      "outputs": [
        {
          "output_type": "stream",
          "text": [
            "batch_size, epochs, acc_fake, acc_real\n",
            "90 , 2 , 0.9938480502864173 , 0.9119116343409843\n"
          ],
          "name": "stdout"
        }
      ]
    },
    {
      "cell_type": "code",
      "metadata": {
        "id": "ouaScQgWl4nM",
        "colab_type": "code",
        "outputId": "2cb91935-ff58-4738-c4f4-b148c7e9f323",
        "colab": {
          "base_uri": "https://localhost:8080/",
          "height": 54
        }
      },
      "source": [
        "#print(\"loss,fake_acc,acc,-PAD-, V, PREP+ADV, CUR, PREP, PROADJ, PU, PREP+ART, PRO-KS, N, KC, PCP, PREP+PROPESS, PROPESS, NUM, IN, ADV-KS, PREP+PRO-KS, PREP+PROSUB, KS, NPROP, ART, ADJ, ADV, PDEN, PROSUB, PREP+PROADJ\")\n",
        "print(batch_size, \",\", epochs, \",\", str(scores)[1:-1])"
      ],
      "execution_count": 0,
      "outputs": [
        {
          "output_type": "stream",
          "text": [
            "90 , 2 , 0.02015901155547602, 0.9938480502864173, 0.9119116343409843, 1.0, 0.764216168268918, 0.9683652829737939, 0.8946121664828393, 0.973425810750413, 0.94483836461234, 0.6623761910647986, 0.14418744367677983, 0.8472593681365085, 0.9629768540001534, 0.0, 0.7926543467546772, 0.06408330830079102, 0.3732852708521077, 0.2998564800907847, 0.6984036844702636, 0.9571518542518057, 0.5468442308334167, 0.8767106183509339, 0.0, 0.7797464810074396, 0.9108951088122716, 0.8547706318031272, 0.9995071591144277, 0.22162144120690233, 0.7862092683216526, 0.9511625326136471, 0.0\n"
          ],
          "name": "stdout"
        }
      ]
    }
  ]
}